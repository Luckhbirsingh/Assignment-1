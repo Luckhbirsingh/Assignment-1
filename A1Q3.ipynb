{
 "cells": [
  {
   "cell_type": "code",
   "execution_count": 17,
   "id": "6b9b41b9",
   "metadata": {},
   "outputs": [
    {
     "name": "stdout",
     "output_type": "stream",
     "text": [
      "Number of even numbers : 4\n",
      "Number of odd numbers : 5\n"
     ]
    }
   ],
   "source": [
    "L1 = (1, 2, 3, 4, 5, 6, 7, 8, 9) \n",
    "even = 0\n",
    "odd = 0\n",
    "\n",
    "for i in L1:\n",
    "    if i%2==0:\n",
    "        even = even + 1\n",
    "    else:\n",
    "         if i%2!=0:\n",
    "            odd=odd+1\n",
    "    \n",
    "print(\"Number of even numbers :\", even)\n",
    "print(\"Number of odd numbers :\", odd)"
   ]
  },
  {
   "cell_type": "code",
   "execution_count": null,
   "id": "7074fb2a",
   "metadata": {},
   "outputs": [],
   "source": []
  },
  {
   "cell_type": "code",
   "execution_count": null,
   "id": "44e0a5f4",
   "metadata": {},
   "outputs": [],
   "source": []
  }
 ],
 "metadata": {
  "kernelspec": {
   "display_name": "Python 3 (ipykernel)",
   "language": "python",
   "name": "python3"
  },
  "language_info": {
   "codemirror_mode": {
    "name": "ipython",
    "version": 3
   },
   "file_extension": ".py",
   "mimetype": "text/x-python",
   "name": "python",
   "nbconvert_exporter": "python",
   "pygments_lexer": "ipython3",
   "version": "3.10.0"
  }
 },
 "nbformat": 4,
 "nbformat_minor": 5
}
